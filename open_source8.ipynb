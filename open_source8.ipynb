{
 "cells": [
  {
   "cell_type": "code",
   "execution_count": 1,
   "metadata": {},
   "outputs": [],
   "source": [
    "import requests\n",
    "import datetime"
   ]
  },
  {
   "cell_type": "code",
   "execution_count": 21,
   "metadata": {},
   "outputs": [],
   "source": [
    "url = \"https://notify-api.line.me/api/notify\"\n",
    "access_token = 'トークン'\n",
    "headers = {'Authorization': 'Bearer ' + access_token}"
   ]
  },
  {
   "cell_type": "code",
   "execution_count": 24,
   "metadata": {},
   "outputs": [],
   "source": [
    "dt = datetime.datetime.today() \n",
    "now = f'{dt.year}年{dt.month}月{dt.day}日 {dt.hour}:{dt.minute}:{dt.second}'\n",
    "\n",
    "message = now\n",
    "image = 'gakusyo.jpg'  # png or jpg\n",
    "payload = {'message': message}\n",
    "files = {'imageFile': open(image, 'rb')}\n",
    "r = requests.post(url, headers=headers, params=payload, files=files,)"
   ]
  },
  {
   "cell_type": "code",
   "execution_count": 25,
   "metadata": {},
   "outputs": [],
   "source": [
    "message = 'こんにちは'\n",
    "payload = {\n",
    "    'message': message,\n",
    "    'stickerPackageId': 789,\n",
    "    'stickerId': 10855,\n",
    "}\n",
    "r = requests.post(url, headers=headers, params=payload,)"
   ]
  },
  {
   "cell_type": "code",
   "execution_count": null,
   "metadata": {},
   "outputs": [],
   "source": []
  }
 ],
 "metadata": {
  "kernelspec": {
   "display_name": "Python 3",
   "language": "python",
   "name": "python3"
  },
  "language_info": {
   "codemirror_mode": {
    "name": "ipython",
    "version": 3
   },
   "file_extension": ".py",
   "mimetype": "text/x-python",
   "name": "python",
   "nbconvert_exporter": "python",
   "pygments_lexer": "ipython3",
   "version": "3.8.5"
  }
 },
 "nbformat": 4,
 "nbformat_minor": 4
}
