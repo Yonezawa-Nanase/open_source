{
 "cells": [
  {
   "cell_type": "code",
   "execution_count": 1,
   "metadata": {},
   "outputs": [],
   "source": [
    "import random"
   ]
  },
  {
   "cell_type": "code",
   "execution_count": 2,
   "metadata": {},
   "outputs": [],
   "source": [
    "count ={'1':0,'2':0,'3':0,'4':0,'5':0,'6':0}\n",
    "for i in range(100000):\n",
    "    dice = random.randint(1,6)\n",
    "    count[str(dice)] += 1"
   ]
  },
  {
   "cell_type": "code",
   "execution_count": 3,
   "metadata": {},
   "outputs": [
    {
     "data": {
      "text/plain": [
       "{'1': 16947, '2': 16535, '3': 16807, '4': 16678, '5': 16537, '6': 16496}"
      ]
     },
     "execution_count": 3,
     "metadata": {},
     "output_type": "execute_result"
    }
   ],
   "source": [
    "count"
   ]
  },
  {
   "cell_type": "code",
   "execution_count": 7,
   "metadata": {},
   "outputs": [],
   "source": [
    "step = 0"
   ]
  },
  {
   "cell_type": "code",
   "execution_count": 26,
   "metadata": {},
   "outputs": [
    {
     "name": "stdout",
     "output_type": "stream",
     "text": [
      "サイコロ:4 10マス目 ゴール！\n"
     ]
    }
   ],
   "source": [
    "dice = random.randint(1,6)\n",
    "step += dice\n",
    "if step >= 10:\n",
    "    print(f'サイコロ:{dice} 10マス目 ゴール！')\n",
    "    step = 0\n",
    "else :\n",
    "    print(f'サイコロ:{dice} {step}マス目')"
   ]
  },
  {
   "cell_type": "code",
   "execution_count": 27,
   "metadata": {},
   "outputs": [
    {
     "name": "stdout",
     "output_type": "stream",
     "text": [
      "サイコロ:4 4マス目\n",
      "サイコロ:5 9マス目\n",
      "サイコロ:3 10マス目 ゴール！\n",
      "サイコロ:6 6マス目\n",
      "サイコロ:4 10マス目 ゴール！\n"
     ]
    }
   ],
   "source": [
    "#自動\n",
    "step = 0\n",
    "for i in range(5):\n",
    "    dice = random.randint(1,6)\n",
    "    step += dice\n",
    "    if step >= 10:\n",
    "        print(f'サイコロ:{dice} 10マス目 ゴール！')\n",
    "        step = 0\n",
    "    else :\n",
    "        print(f'サイコロ:{dice} {step}マス目')"
   ]
  },
  {
   "cell_type": "code",
   "execution_count": null,
   "metadata": {},
   "outputs": [],
   "source": []
  }
 ],
 "metadata": {
  "kernelspec": {
   "display_name": "Python 3",
   "language": "python",
   "name": "python3"
  },
  "language_info": {
   "codemirror_mode": {
    "name": "ipython",
    "version": 3
   },
   "file_extension": ".py",
   "mimetype": "text/x-python",
   "name": "python",
   "nbconvert_exporter": "python",
   "pygments_lexer": "ipython3",
   "version": "3.8.5"
  }
 },
 "nbformat": 4,
 "nbformat_minor": 4
}
