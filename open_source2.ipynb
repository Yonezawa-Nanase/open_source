{
 "cells": [
  {
   "cell_type": "code",
   "execution_count": 15,
   "metadata": {},
   "outputs": [
    {
     "name": "stdout",
     "output_type": "stream",
     "text": [
      "              札幌                          東京                         名古屋  \\\n",
      "         平均気温(℃) 降水量の合計(mm) 日照時間(時間) 平均気温(℃) 降水量の合計(mm) 日照時間(時間) 平均気温(℃)   \n",
      "2020年9月     20.1       53.5    140.1    24.2      117.5    105.7    25.4   \n",
      "2020年10月    13.1       66.0    152.9    17.5      205.0    113.9    18.0   \n",
      "2020年11月     6.3      113.0     84.0    14.0       14.5    156.6    14.0   \n",
      "2020年12月    -1.6       26.5     95.2     7.7       13.0    167.9     7.4   \n",
      "2021年1月     -4.4       90.5    109.5     5.4       43.5    172.4     5.0   \n",
      "2021年2月     -2.2       78.5    114.2     8.5       88.5    214.9     7.5   \n",
      "2021年3月      3.8       79.5    161.7    12.8      173.0    193.2    12.0   \n",
      "2021年4月      7.9      112.0    207.1    15.1      156.0    218.5    15.2   \n",
      "2021年5月     13.1       76.5    148.5    19.6       99.5    150.5    19.5   \n",
      "2021年6月     18.9       50.5    260.7    22.7      168.5    131.6    23.4   \n",
      "2021年7月     23.9        7.5    285.3    25.9      310.0    160.2    27.4   \n",
      "2021年8月     22.9      108.5    187.4    27.4      382.5    175.6    27.8   \n",
      "2021年9月     18.8       73.0    201.2    22.3      222.5    100.7    24.1   \n",
      "\n",
      "                                  大阪                          福岡             \\\n",
      "         降水量の合計(mm) 日照時間(時間) 平均気温(℃) 降水量の合計(mm) 日照時間(時間) 平均気温(℃) 降水量の合計(mm)   \n",
      "2020年9月       230.5    148.5    25.8       98.0    134.6    24.5      310.5   \n",
      "2020年10月      269.0    178.2    18.7      205.0    182.8    19.4       64.5   \n",
      "2020年11月       36.5    202.5    14.7       47.0    173.2    15.3       25.0   \n",
      "2020年12月       22.0    178.3     8.7       18.5    187.0     8.5       42.5   \n",
      "2021年1月        56.5    161.7     6.2       64.5    176.3     7.0       45.5   \n",
      "2021年2月        46.5    164.8     8.7       45.0    189.3    10.2       79.5   \n",
      "2021年3月       203.5    192.8    12.2      145.5    194.5    13.5      116.5   \n",
      "2021年4月       192.0    219.5    15.5      224.0    221.2    16.7       66.0   \n",
      "2021年5月       254.0    151.9    20.0      340.0    169.9    20.4      133.5   \n",
      "2021年6月       137.0    153.7    23.9      172.0    173.6    24.2      123.0   \n",
      "2021年7月       312.5    175.2    27.9      268.5    191.0    28.9       45.5   \n",
      "2021年8月       347.0    167.1    28.1      314.5    165.2    27.5      881.5   \n",
      "2021年9月       224.0    126.1    24.8      192.0    124.9    25.9      246.5   \n",
      "\n",
      "                   \n",
      "         日照時間(時間)  \n",
      "2020年9月     168.2  \n",
      "2020年10月    211.0  \n",
      "2020年11月    150.1  \n",
      "2020年12月    131.2  \n",
      "2021年1月     118.5  \n",
      "2021年2月     173.7  \n",
      "2021年3月     186.6  \n",
      "2021年4月     214.5  \n",
      "2021年5月     179.8  \n",
      "2021年6月     187.3  \n",
      "2021年7月     200.8  \n",
      "2021年8月     144.9  \n",
      "2021年9月     150.3  \n",
      "   表章項目             世帯区分       地域区分   時間軸（月次）  /品目分類（2020年改定）  \\\n",
      "0    金額  二人以上の世帯（2000年～）  01100 札幌市   2020年9月             NaN   \n",
      "1    金額  二人以上の世帯（2000年～）  01100 札幌市  2020年10月             NaN   \n",
      "2    金額  二人以上の世帯（2000年～）  01100 札幌市  2020年11月             NaN   \n",
      "3    金額  二人以上の世帯（2000年～）  01100 札幌市  2020年12月             NaN   \n",
      "4    金額  二人以上の世帯（2000年～）  01100 札幌市   2021年1月             NaN   \n",
      "..  ...              ...        ...       ...             ...   \n",
      "60   金額  二人以上の世帯（2000年～）  40130 福岡市   2021年5月             NaN   \n",
      "61   金額  二人以上の世帯（2000年～）  40130 福岡市   2021年6月             NaN   \n",
      "62   金額  二人以上の世帯（2000年～）  40130 福岡市   2021年7月             NaN   \n",
      "63   金額  二人以上の世帯（2000年～）  40130 福岡市   2021年8月             NaN   \n",
      "64   金額  二人以上の世帯（2000年～）  40130 福岡市   2021年9月             NaN   \n",
      "\n",
      "   356 アイスクリーム・シャーベット【円】  \n",
      "0                    938  \n",
      "1                    482  \n",
      "2                    513  \n",
      "3                    718  \n",
      "4                    614  \n",
      "..                   ...  \n",
      "60                  1074  \n",
      "61                  1167  \n",
      "62                  1310  \n",
      "63                  1435  \n",
      "64                  1018  \n",
      "\n",
      "[65 rows x 6 columns]\n"
     ]
    }
   ],
   "source": [
    "import pandas as pd\n",
    "import numpy as np\n",
    "import matplotlib.pyplot as plt\n",
    "\n",
    "kisho = pd.read_csv('気象データ.csv', encoding='cp932',skiprows=2,header=[0,1],index_col=0)\n",
    "ice = pd.read_csv('アイスクリーム.csv', encoding='cp932')\n",
    "ice['356 アイスクリーム・シャーベット【円】']=ice['356 アイスクリーム・シャーベット【円】'].str.replace(',', '')\n",
    "print(kisho)\n",
    "print(ice)"
   ]
  },
  {
   "cell_type": "code",
   "execution_count": 16,
   "metadata": {},
   "outputs": [
    {
     "name": "stdout",
     "output_type": "stream",
     "text": [
      "('札幌', '平均気温(℃)')\n",
      "平均:10.815385\n",
      "標準偏差:9.900155\n",
      "\n",
      "('札幌', '降水量の合計(mm)')\n",
      "平均:71.961538\n",
      "標準偏差:31.814869\n",
      "\n",
      "('札幌', '日照時間(時間)')\n",
      "平均:165.215385\n",
      "標準偏差:61.480401\n",
      "\n",
      "('東京', '平均気温(℃)')\n",
      "平均:17.161538\n",
      "標準偏差:7.245750\n",
      "\n",
      "('東京', '降水量の合計(mm)')\n",
      "平均:153.384615\n",
      "標準偏差:109.755819\n",
      "\n",
      "('東京', '日照時間(時間)')\n",
      "平均:158.592308\n",
      "標準偏差:38.156333\n",
      "\n",
      "('名古屋', '平均気温(℃)')\n",
      "平均:17.438462\n",
      "標準偏差:7.932690\n",
      "\n",
      "('名古屋', '降水量の合計(mm)')\n",
      "平均:179.307692\n",
      "標準偏差:109.733871\n",
      "\n",
      "('名古屋', '日照時間(時間)')\n",
      "平均:170.792308\n",
      "標準偏差:24.611057\n",
      "\n",
      "('大阪', '平均気温(℃)')\n",
      "平均:18.092308\n",
      "標準偏差:7.688136\n",
      "\n",
      "('大阪', '降水量の合計(mm)')\n",
      "平均:164.192308\n",
      "標準偏差:105.788220\n",
      "\n",
      "('大阪', '日照時間(時間)')\n",
      "平均:175.653846\n",
      "標準偏差:24.909122\n",
      "\n",
      "('福岡', '平均気温(℃)')\n",
      "平均:18.615385\n",
      "標準偏差:7.395251\n",
      "\n",
      "('福岡', '降水量の合計(mm)')\n",
      "平均:167.692308\n",
      "標準偏差:230.321744\n",
      "\n",
      "('福岡', '日照時間(時間)')\n",
      "平均:170.530769\n",
      "標準偏差:30.091316\n",
      "\n"
     ]
    }
   ],
   "source": [
    "for head in kisho.columns:\n",
    "    print(head)\n",
    "    print('平均:%f' % (kisho[head].mean()))\n",
    "    print('標準偏差:%f' % (kisho[head].std()))\n",
    "    print('')"
   ]
  },
  {
   "cell_type": "code",
   "execution_count": 17,
   "metadata": {
    "scrolled": true
   },
   "outputs": [],
   "source": [
    "heikin = []\n",
    "count = 0\n",
    "for df in kisho.columns :\n",
    "    if count % 3 == 0:\n",
    "        heikin.extend(kisho[df].values)\n",
    "        #print(kisho[df].values)\n",
    "    count += 1\n",
    "yen = ice['356 アイスクリーム・シャーベット【円】'].values\n",
    "yen = [int(x) for x in yen]"
   ]
  },
  {
   "cell_type": "code",
   "execution_count": 18,
   "metadata": {},
   "outputs": [
    {
     "name": "stdout",
     "output_type": "stream",
     "text": [
      "[[1.         0.82980509]\n",
      " [0.82980509 1.        ]]\n"
     ]
    },
    {
     "data": {
      "image/png": "[encoded data removed]",
      "text/plain": [
       "<Figure size 432x288 with 1 Axes>"
      ]
     },
     "metadata": {
      "needs_background": "light"
     },
     "output_type": "display_data"
    }
   ],
   "source": [
    "plt.scatter(yen,heikin)\n",
    "print(np.corrcoef([yen,heikin]))\n",
    "plt.show() #グラフ表示省略"
   ]
  }
 ],
 "metadata": {
  "kernelspec": {
   "display_name": "Python 3",
   "language": "python",
   "name": "python3"
  },
  "language_info": {
   "codemirror_mode": {
    "name": "ipython",
    "version": 3
   },
   "file_extension": ".py",
   "mimetype": "text/x-python",
   "name": "python",
   "nbconvert_exporter": "python",
   "pygments_lexer": "ipython3",
   "version": "3.8.5"
  }
 },
 "nbformat": 4,
 "nbformat_minor": 4
}
