{
 "cells": [
  {
   "cell_type": "code",
   "execution_count": 1,
   "metadata": {},
   "outputs": [],
   "source": [
    "import os\n",
    "import string\n",
    "import datetime"
   ]
  },
  {
   "cell_type": "code",
   "execution_count": 2,
   "metadata": {},
   "outputs": [
    {
     "name": "stdout",
     "output_type": "stream",
     "text": [
      "./file/A\n",
      "./file/B\n",
      "./file/C\n",
      "./file/D\n",
      "./file/E\n",
      "./file/F\n",
      "./file/G\n",
      "./file/H\n",
      "./file/I\n",
      "./file/J\n",
      "./file/K\n",
      "./file/L\n",
      "./file/M\n",
      "./file/N\n",
      "./file/O\n",
      "./file/P\n",
      "./file/Q\n",
      "./file/R\n",
      "./file/S\n",
      "./file/T\n",
      "./file/U\n",
      "./file/V\n",
      "./file/W\n",
      "./file/X\n",
      "./file/Y\n",
      "./file/Z\n",
      "./file/AA.txt\n",
      "./file/BB.txt\n",
      "./file/CC.txt\n",
      "./file/DD.txt\n",
      "./file/EE.txt\n",
      "./file/FF.txt\n",
      "./file/GG.txt\n",
      "./file/HH.txt\n",
      "./file/II.txt\n",
      "./file/JJ.txt\n",
      "./file/KK.txt\n",
      "./file/LL.txt\n",
      "./file/MM.txt\n",
      "./file/NN.txt\n",
      "./file/OO.txt\n",
      "./file/PP.txt\n",
      "./file/QQ.txt\n",
      "./file/RR.txt\n",
      "./file/SS.txt\n",
      "./file/TT.txt\n",
      "./file/UU.txt\n",
      "./file/VV.txt\n",
      "./file/WW.txt\n",
      "./file/XX.txt\n",
      "./file/YY.txt\n",
      "./file/ZZ.txt\n",
      "./file/AAA.csv\n",
      "./file/BBB.csv\n",
      "./file/CCC.csv\n",
      "./file/DDD.csv\n",
      "./file/EEE.csv\n",
      "./file/FFF.csv\n",
      "./file/GGG.csv\n",
      "./file/HHH.csv\n",
      "./file/III.csv\n",
      "./file/JJJ.csv\n",
      "./file/KKK.csv\n",
      "./file/LLL.csv\n",
      "./file/MMM.csv\n",
      "./file/NNN.csv\n",
      "./file/OOO.csv\n",
      "./file/PPP.csv\n",
      "./file/QQQ.csv\n",
      "./file/RRR.csv\n",
      "./file/SSS.csv\n",
      "./file/TTT.csv\n",
      "./file/UUU.csv\n",
      "./file/VVV.csv\n",
      "./file/WWW.csv\n",
      "./file/XXX.csv\n",
      "./file/YYY.csv\n",
      "./file/ZZZ.csv\n"
     ]
    }
   ],
   "source": [
    "x = ['','.txt','.csv']\n",
    "root = './file'\n",
    "os.mkdir(root)\n",
    "count = 0\n",
    "for x in x:\n",
    "    count += 1\n",
    "    for i in string.ascii_uppercase:\n",
    "        path = root + '/' + i * count + x\n",
    "        f = open(path, 'w')\n",
    "        f.write('こんにちは')\n",
    "        f.close()\n",
    "        print(path)"
   ]
  },
  {
   "cell_type": "code",
   "execution_count": 4,
   "metadata": {},
   "outputs": [
    {
     "name": "stdout",
     "output_type": "stream",
     "text": [
      "./file/AAA.csv ./file/AAA_test_2022114_2213.csv\n",
      "./file/BBB.csv ./file/BBB_test_2022114_2213.csv\n",
      "./file/CCC.csv ./file/CCC_test_2022114_2213.csv\n",
      "./file/DDD.csv ./file/DDD_test_2022114_2213.csv\n",
      "./file/EEE.csv ./file/EEE_test_2022114_2213.csv\n",
      "./file/FFF.csv ./file/FFF_test_2022114_2213.csv\n",
      "./file/GGG.csv ./file/GGG_test_2022114_2213.csv\n",
      "./file/HHH.csv ./file/HHH_test_2022114_2213.csv\n",
      "./file/III.csv ./file/III_test_2022114_2213.csv\n",
      "./file/JJJ.csv ./file/JJJ_test_2022114_2213.csv\n",
      "./file/KKK.csv ./file/KKK_test_2022114_2213.csv\n",
      "./file/LLL.csv ./file/LLL_test_2022114_2213.csv\n",
      "./file/MMM.csv ./file/MMM_test_2022114_2213.csv\n",
      "./file/NNN.csv ./file/NNN_test_2022114_2213.csv\n",
      "./file/OOO.csv ./file/OOO_test_2022114_2213.csv\n",
      "./file/PPP.csv ./file/PPP_test_2022114_2213.csv\n",
      "./file/QQQ.csv ./file/QQQ_test_2022114_2213.csv\n",
      "./file/RRR.csv ./file/RRR_test_2022114_2213.csv\n",
      "./file/SSS.csv ./file/SSS_test_2022114_2213.csv\n",
      "./file/TTT.csv ./file/TTT_test_2022114_2213.csv\n",
      "./file/UUU.csv ./file/UUU_test_2022114_2213.csv\n",
      "./file/VVV.csv ./file/VVV_test_2022114_2213.csv\n",
      "./file/WWW.csv ./file/WWW_test_2022114_2213.csv\n",
      "./file/XXX.csv ./file/XXX_test_2022114_2213.csv\n",
      "./file/YYY.csv ./file/YYY_test_2022114_2213.csv\n",
      "./file/ZZZ.csv ./file/ZZZ_test_2022114_2213.csv\n"
     ]
    }
   ],
   "source": [
    "for i in string.ascii_uppercase:\n",
    "    dt = datetime.datetime.today() \n",
    "    path1 = root + '/' + i * 3 \n",
    "    path2 = f'_test_{dt.year}{dt.month}{dt.day}_{dt.hour}{dt.minute}'\n",
    "    os.rename(path1+'.csv',path1+path2+'.csv')\n",
    "    print(path1+'.csv',path1+path2+'.csv')"
   ]
  }
 ],
 "metadata": {
  "kernelspec": {
   "display_name": "Python 3",
   "language": "python",
   "name": "python3"
  },
  "language_info": {
   "codemirror_mode": {
    "name": "ipython",
    "version": 3
   },
   "file_extension": ".py",
   "mimetype": "text/x-python",
   "name": "python",
   "nbconvert_exporter": "python",
   "pygments_lexer": "ipython3",
   "version": "3.8.5"
  }
 },
 "nbformat": 4,
 "nbformat_minor": 4
}
