{
 "cells": [
  {
   "cell_type": "code",
   "execution_count": 2,
   "metadata": {},
   "outputs": [
    {
     "data": {
      "text/html": [
       "<div>\n",
       "<style scoped>\n",
       "    .dataframe tbody tr th:only-of-type {\n",
       "        vertical-align: middle;\n",
       "    }\n",
       "\n",
       "    .dataframe tbody tr th {\n",
       "        vertical-align: top;\n",
       "    }\n",
       "\n",
       "    .dataframe thead th {\n",
       "        text-align: right;\n",
       "    }\n",
       "</style>\n",
       "<table border=\"1\" class=\"dataframe\">\n",
       "  <thead>\n",
       "    <tr style=\"text-align: right;\">\n",
       "      <th></th>\n",
       "      <th>札所</th>\n",
       "      <th>緯度</th>\n",
       "      <th>経度</th>\n",
       "    </tr>\n",
       "  </thead>\n",
       "  <tbody>\n",
       "    <tr>\n",
       "      <th>0</th>\n",
       "      <td>第一番 竺和山 一乗院 霊山寺</td>\n",
       "      <td>34.159803</td>\n",
       "      <td>134.502592</td>\n",
       "    </tr>\n",
       "    <tr>\n",
       "      <th>1</th>\n",
       "      <td>第二番 日照山 無量寿院 極楽寺</td>\n",
       "      <td>34.155650</td>\n",
       "      <td>134.490347</td>\n",
       "    </tr>\n",
       "    <tr>\n",
       "      <th>2</th>\n",
       "      <td>第三番 亀光山 釈迦院 金泉寺</td>\n",
       "      <td>34.147436</td>\n",
       "      <td>134.468544</td>\n",
       "    </tr>\n",
       "    <tr>\n",
       "      <th>3</th>\n",
       "      <td>第四番 黒厳山 遍照院 大日寺</td>\n",
       "      <td>34.151306</td>\n",
       "      <td>134.430889</td>\n",
       "    </tr>\n",
       "    <tr>\n",
       "      <th>4</th>\n",
       "      <td>第五番 無尽山 荘厳院 地蔵寺</td>\n",
       "      <td>34.137219</td>\n",
       "      <td>134.431925</td>\n",
       "    </tr>\n",
       "    <tr>\n",
       "      <th>...</th>\n",
       "      <td>...</td>\n",
       "      <td>...</td>\n",
       "      <td>...</td>\n",
       "    </tr>\n",
       "    <tr>\n",
       "      <th>83</th>\n",
       "      <td>第八十四番 南面山 千光院 屋島寺</td>\n",
       "      <td>34.357917</td>\n",
       "      <td>134.101250</td>\n",
       "    </tr>\n",
       "    <tr>\n",
       "      <th>84</th>\n",
       "      <td>第八十五番 五剣山 観自在院 八栗寺</td>\n",
       "      <td>34.359889</td>\n",
       "      <td>134.139528</td>\n",
       "    </tr>\n",
       "    <tr>\n",
       "      <th>85</th>\n",
       "      <td>第八十六番 補陀洛山 志度寺</td>\n",
       "      <td>34.324306</td>\n",
       "      <td>134.179639</td>\n",
       "    </tr>\n",
       "    <tr>\n",
       "      <th>86</th>\n",
       "      <td>第八十七番 補陀洛山 観音院 長尾寺</td>\n",
       "      <td>34.266706</td>\n",
       "      <td>134.171719</td>\n",
       "    </tr>\n",
       "    <tr>\n",
       "      <th>87</th>\n",
       "      <td>第八十八番 医王山 遍照光院 大窪寺</td>\n",
       "      <td>34.191417</td>\n",
       "      <td>134.206750</td>\n",
       "    </tr>\n",
       "  </tbody>\n",
       "</table>\n",
       "<p>88 rows × 3 columns</p>\n",
       "</div>"
      ],
      "text/plain": [
       "                    札所         緯度          経度\n",
       "0      第一番 竺和山 一乗院 霊山寺  34.159803  134.502592\n",
       "1     第二番 日照山 無量寿院 極楽寺  34.155650  134.490347\n",
       "2      第三番 亀光山 釈迦院 金泉寺  34.147436  134.468544\n",
       "3      第四番 黒厳山 遍照院 大日寺  34.151306  134.430889\n",
       "4      第五番 無尽山 荘厳院 地蔵寺  34.137219  134.431925\n",
       "..                 ...        ...         ...\n",
       "83   第八十四番 南面山 千光院 屋島寺  34.357917  134.101250\n",
       "84  第八十五番 五剣山 観自在院 八栗寺  34.359889  134.139528\n",
       "85      第八十六番 補陀洛山 志度寺  34.324306  134.179639\n",
       "86  第八十七番 補陀洛山 観音院 長尾寺  34.266706  134.171719\n",
       "87  第八十八番 医王山 遍照光院 大窪寺  34.191417  134.206750\n",
       "\n",
       "[88 rows x 3 columns]"
      ]
     },
     "execution_count": 2,
     "metadata": {},
     "output_type": "execute_result"
    }
   ],
   "source": [
    "#https://www.benricho.org/map_jyunrei/shikoku88/\n",
    "import folium\n",
    "import numpy as np\n",
    "import pandas as pd\n",
    "import random\n",
    "ohenro = pd.read_csv('ohenro.csv', encoding='cp932')\n",
    "step = 0\n",
    "ohenro"
   ]
  },
  {
   "cell_type": "code",
   "execution_count": 6,
   "metadata": {},
   "outputs": [
    {
     "name": "stdout",
     "output_type": "stream",
     "text": [
      "サイコロ:3 88マス目 第八十八番 医王山 遍照光院 大窪寺 ゴール！\n",
      "サイコロ:6 6マス目 第六番 温泉山 瑠璃光院 安楽寺\n",
      "サイコロ:5 11マス目 第十一番 金剛山 一乗院 藤井寺\n",
      "サイコロ:5 16マス目 第十六番 光耀山 千手院 観音寺\n",
      "サイコロ:1 17マス目 第十七番 瑠璃山 真福院 井戸寺\n",
      "サイコロ:2 19マス目 第十九番 橋池山 摩尼院 立江寺\n",
      "サイコロ:5 24マス目 第二十四番 室戸山 明星院 最御崎寺\n",
      "サイコロ:5 29マス目 第二十九番 摩尼山 宝蔵院 国分寺\n",
      "サイコロ:2 31マス目 第三十一番 五台山 金色院 竹林寺\n",
      "サイコロ:3 34マス目 第三十四番 本尾山 朱雀院 種間寺\n"
     ]
    },
    {
     "data": {
      "text/html": [
       "<div style=\"width:100%;\"><div style=\"position:relative;width:100%;height:0;padding-bottom:60%;\"><span style=\"color:#565656\">Make this Notebook Trusted to load map: File -> Trust Notebook</span><iframe src=\"about:blank\" style=\"position:absolute;width:100%;height:100%;left:0;top:0;border:none !important;\" data-html=%3C%21DOCTYPE%20html%3E%0A%3Chead%3E%20%20%20%20%0A%20%20%20%20%3Cmeta%20http-equiv%3D%22content-type%22%20content%3D%22text/html%3B%20charset%3DUTF-8%22%20/%3E%0A%20%20%20%20%0A%20%20%20%20%20%20%20%20%3Cscript%3E%0A%20%20%20%20%20%20%20%20%20%20%20%20L_NO_TOUCH%20%3D%20false%3B%0A%20%20%20%20%20%20%20%20%20%20%20%20L_DISABLE_3D%20%3D%20false%3B%0A%20%20%20%20%20%20%20%20%3C/script%3E%0A%20%20%20%20%0A%20%20%20%20%3Cstyle%3Ehtml%2C%20body%20%7Bwidth%3A%20100%25%3Bheight%3A%20100%25%3Bmargin%3A%200%3Bpadding%3A%200%3B%7D%3C/style%3E%0A%20%20%20%20%3Cstyle%3E%23map%20%7Bposition%3Aabsolute%3Btop%3A0%3Bbottom%3A0%3Bright%3A0%3Bleft%3A0%3B%7D%3C/style%3E%0A%20%20%20%20%3Cscript%20src%3D%22https%3A//cdn.jsdelivr.net/npm/leaflet%401.6.0/dist/leaflet.js%22%3E%3C/script%3E%0A%20%20%20%20%3Cscript%20src%3D%22https%3A//code.jquery.com/jquery-1.12.4.min.js%22%3E%3C/script%3E%0A%20%20%20%20%3Cscript%20src%3D%22https%3A//maxcdn.bootstrapcdn.com/bootstrap/3.2.0/js/bootstrap.min.js%22%3E%3C/script%3E%0A%20%20%20%20%3Cscript%20src%3D%22https%3A//cdnjs.cloudflare.com/ajax/libs/Leaflet.awesome-markers/2.0.2/leaflet.awesome-markers.js%22%3E%3C/script%3E%0A%20%20%20%20%3Clink%20rel%3D%22stylesheet%22%20href%3D%22https%3A//cdn.jsdelivr.net/npm/leaflet%401.6.0/dist/leaflet.css%22/%3E%0A%20%20%20%20%3Clink%20rel%3D%22stylesheet%22%20href%3D%22https%3A//maxcdn.bootstrapcdn.com/bootstrap/3.2.0/css/bootstrap.min.css%22/%3E%0A%20%20%20%20%3Clink%20rel%3D%22stylesheet%22%20href%3D%22https%3A//maxcdn.bootstrapcdn.com/bootstrap/3.2.0/css/bootstrap-theme.min.css%22/%3E%0A%20%20%20%20%3Clink%20rel%3D%22stylesheet%22%20href%3D%22https%3A//maxcdn.bootstrapcdn.com/font-awesome/4.6.3/css/font-awesome.min.css%22/%3E%0A%20%20%20%20%3Clink%20rel%3D%22stylesheet%22%20href%3D%22https%3A//cdnjs.cloudflare.com/ajax/libs/Leaflet.awesome-markers/2.0.2/leaflet.awesome-markers.css%22/%3E%0A%20%20%20%20%3Clink%20rel%3D%22stylesheet%22%20href%3D%22https%3A//cdn.jsdelivr.net/gh/python-visualization/folium/folium/templates/leaflet.awesome.rotate.min.css%22/%3E%0A%20%20%20%20%0A%20%20%20%20%20%20%20%20%20%20%20%20%3Cmeta%20name%3D%22viewport%22%20content%3D%22width%3Ddevice-width%2C%0A%20%20%20%20%20%20%20%20%20%20%20%20%20%20%20%20initial-scale%3D1.0%2C%20maximum-scale%3D1.0%2C%20user-scalable%3Dno%22%20/%3E%0A%20%20%20%20%20%20%20%20%20%20%20%20%3Cstyle%3E%0A%20%20%20%20%20%20%20%20%20%20%20%20%20%20%20%20%23map_a72d8e7442ae4c5980ad88fb75baae1c%20%7B%0A%20%20%20%20%20%20%20%20%20%20%20%20%20%20%20%20%20%20%20%20position%3A%20relative%3B%0A%20%20%20%20%20%20%20%20%20%20%20%20%20%20%20%20%20%20%20%20width%3A%20100.0%25%3B%0A%20%20%20%20%20%20%20%20%20%20%20%20%20%20%20%20%20%20%20%20height%3A%20100.0%25%3B%0A%20%20%20%20%20%20%20%20%20%20%20%20%20%20%20%20%20%20%20%20left%3A%200.0%25%3B%0A%20%20%20%20%20%20%20%20%20%20%20%20%20%20%20%20%20%20%20%20top%3A%200.0%25%3B%0A%20%20%20%20%20%20%20%20%20%20%20%20%20%20%20%20%7D%0A%20%20%20%20%20%20%20%20%20%20%20%20%3C/style%3E%0A%20%20%20%20%20%20%20%20%0A%3C/head%3E%0A%3Cbody%3E%20%20%20%20%0A%20%20%20%20%0A%20%20%20%20%20%20%20%20%20%20%20%20%3Cdiv%20class%3D%22folium-map%22%20id%3D%22map_a72d8e7442ae4c5980ad88fb75baae1c%22%20%3E%3C/div%3E%0A%20%20%20%20%20%20%20%20%0A%3C/body%3E%0A%3Cscript%3E%20%20%20%20%0A%20%20%20%20%0A%20%20%20%20%20%20%20%20%20%20%20%20var%20map_a72d8e7442ae4c5980ad88fb75baae1c%20%3D%20L.map%28%0A%20%20%20%20%20%20%20%20%20%20%20%20%20%20%20%20%22map_a72d8e7442ae4c5980ad88fb75baae1c%22%2C%0A%20%20%20%20%20%20%20%20%20%20%20%20%20%20%20%20%7B%0A%20%20%20%20%20%20%20%20%20%20%20%20%20%20%20%20%20%20%20%20center%3A%20%5B33.491721999999996%2C%20133.487583%5D%2C%0A%20%20%20%20%20%20%20%20%20%20%20%20%20%20%20%20%20%20%20%20crs%3A%20L.CRS.EPSG3857%2C%0A%20%20%20%20%20%20%20%20%20%20%20%20%20%20%20%20%20%20%20%20zoom%3A%2010%2C%0A%20%20%20%20%20%20%20%20%20%20%20%20%20%20%20%20%20%20%20%20zoomControl%3A%20true%2C%0A%20%20%20%20%20%20%20%20%20%20%20%20%20%20%20%20%20%20%20%20preferCanvas%3A%20false%2C%0A%20%20%20%20%20%20%20%20%20%20%20%20%20%20%20%20%7D%0A%20%20%20%20%20%20%20%20%20%20%20%20%29%3B%0A%0A%20%20%20%20%20%20%20%20%20%20%20%20%0A%0A%20%20%20%20%20%20%20%20%0A%20%20%20%20%0A%20%20%20%20%20%20%20%20%20%20%20%20var%20tile_layer_a49d36a336ac4c199aef16c3d02500c0%20%3D%20L.tileLayer%28%0A%20%20%20%20%20%20%20%20%20%20%20%20%20%20%20%20%22https%3A//%7Bs%7D.tile.openstreetmap.org/%7Bz%7D/%7Bx%7D/%7By%7D.png%22%2C%0A%20%20%20%20%20%20%20%20%20%20%20%20%20%20%20%20%7B%22attribution%22%3A%20%22Data%20by%20%5Cu0026copy%3B%20%5Cu003ca%20href%3D%5C%22http%3A//openstreetmap.org%5C%22%5Cu003eOpenStreetMap%5Cu003c/a%5Cu003e%2C%20under%20%5Cu003ca%20href%3D%5C%22http%3A//www.openstreetmap.org/copyright%5C%22%5Cu003eODbL%5Cu003c/a%5Cu003e.%22%2C%20%22detectRetina%22%3A%20false%2C%20%22maxNativeZoom%22%3A%2018%2C%20%22maxZoom%22%3A%2018%2C%20%22minZoom%22%3A%200%2C%20%22noWrap%22%3A%20false%2C%20%22opacity%22%3A%201%2C%20%22subdomains%22%3A%20%22abc%22%2C%20%22tms%22%3A%20false%7D%0A%20%20%20%20%20%20%20%20%20%20%20%20%29.addTo%28map_a72d8e7442ae4c5980ad88fb75baae1c%29%3B%0A%20%20%20%20%20%20%20%20%0A%20%20%20%20%0A%20%20%20%20%20%20%20%20%20%20%20%20var%20poly_line_af71aad2b052494e841fc2a691ed1dfd%20%3D%20L.polyline%28%0A%20%20%20%20%20%20%20%20%20%20%20%20%20%20%20%20%5B%5B34.159803000000004%2C%20134.502592%5D%2C%20%5B34.15565%2C%20134.49034699999999%5D%2C%20%5B34.147436%2C%20134.468544%5D%2C%20%5B34.151306%2C%20134.43088899999998%5D%2C%20%5B34.137219%2C%20134.431925%5D%2C%20%5B34.118056%2C%20134.388389%5D%2C%20%5B34.12075%2C%20134.377925%5D%2C%20%5B34.122758000000005%2C%20134.340039%5D%2C%20%5B34.104378000000004%2C%20134.333814%5D%2C%20%5B34.10775%2C%20134.304278%5D%2C%20%5B34.051667%2C%20134.3485%5D%2C%20%5B33.985028%2C%20134.31025%5D%2C%20%5B34.038117%2C%20134.462683%5D%2C%20%5B34.050333%2C%20134.475639%5D%2C%20%5B34.055611%2C%20134.473611%5D%2C%20%5B34.068472%2C%20134.474344%5D%2C%20%5B34.085167%2C%20134.485444%5D%2C%20%5B33.986%2C%20134.57825%5D%2C%20%5B33.967861%2C%20134.605806%5D%2C%20%5B33.913861%2C%20134.50561100000002%5D%2C%20%5B33.882528%2C%20134.521889%5D%2C%20%5B33.851833%2C%20134.582778%5D%2C%20%5B33.732306%2C%20134.52758300000002%5D%2C%20%5B33.249008%2C%20134.175739%5D%2C%20%5B33.287805999999996%2C%20134.14825%5D%2C%20%5B33.307221999999996%2C%20134.122861%5D%2C%20%5B33.467611%2C%20133.97477800000001%5D%2C%20%5B33.577583000000004%2C%20133.705389%5D%2C%20%5B33.598694%2C%20133.64041699999999%5D%2C%20%5B33.591916999999995%2C%20133.57755600000002%5D%2C%20%5B33.546611%2C%20133.577472%5D%2C%20%5B33.526694%2C%20133.611389%5D%2C%20%5B33.500833%2C%20133.543083%5D%2C%20%5B33.491721999999996%2C%20133.487583%5D%2C%20%5B33.5125%2C%20133.4095%5D%2C%20%5B33.426%2C%20133.450806%5D%2C%20%5B33.207972%2C%20133.134611%5D%2C%20%5B32.726028%2C%20133.01855600000002%5D%2C%20%5B32.961306%2C%20132.774056%5D%2C%20%5B32.964667%2C%20132.564056%5D%2C%20%5B33.295194%2C%20132.5985%5D%2C%20%5B33.310583%2C%20132.581472%5D%2C%20%5B33.369222%2C%20132.518972%5D%2C%20%5B33.660889000000005%2C%20132.912083%5D%2C%20%5B33.658667%2C%20132.980722%5D%2C%20%5B33.753556%2C%20132.81911100000002%5D%2C%20%5B33.757944%2C%20132.812861%5D%2C%20%5B33.793721999999995%2C%20132.813944%5D%2C%20%5B33.816666999999995%2C%20132.808528%5D%2C%20%5B33.828139%2C%20132.80455600000002%5D%2C%20%5B33.847861%2C%20132.796472%5D%2C%20%5B33.885083%2C%20132.714972%5D%2C%20%5B33.89175%2C%20132.739667%5D%2C%20%5B34.066833%2C%20132.964%5D%2C%20%5B34.06875%2C%20132.99575%5D%2C%20%5B34.050111%2C%20132.974583%5D%2C%20%5B34.029472%2C%20132.978472%5D%2C%20%5B34.013194%2C%20132.977361%5D%2C%20%5B34.026167%2C%20133.025444%5D%2C%20%5B33.837861%2C%20133.11113899999998%5D%2C%20%5B33.893528%2C%20133.103306%5D%2C%20%5B33.897333%2C%20133.114944%5D%2C%20%5B33.896056%2C%20133.129167%5D%2C%20%5B33.890221999999994%2C%20133.160667%5D%2C%20%5B33.967639%2C%20133.5865%5D%2C%20%5B34.035222%2C%20133.723722%5D%2C%20%5B34.102194%2C%20133.719167%5D%2C%20%5B34.133986%2C%20133.647333%5D%2C%20%5B34.1345%2C%20133.647528%5D%2C%20%5B34.139666999999996%2C%20133.69405600000002%5D%2C%20%5B34.229721999999995%2C%20133.724261%5D%2C%20%5B34.223306%2C%20133.750219%5D%2C%20%5B34.219389%2C%20133.750278%5D%2C%20%5B34.233194%2C%20133.765764%5D%2C%20%5B34.225111%2C%20133.774139%5D%2C%20%5B34.250097%2C%20133.781014%5D%2C%20%5B34.27675%2C%20133.76269399999998%5D%2C%20%5B34.306694%2C%20133.82458300000002%5D%2C%20%5B34.311471999999995%2C%20133.88286100000002%5D%2C%20%5B34.303139%2C%20133.944167%5D%2C%20%5B34.333528%2C%20133.926764%5D%2C%20%5B34.3445%2C%20133.960556%5D%2C%20%5B34.286611%2C%20134.02658300000002%5D%2C%20%5B34.357917%2C%20134.10125%5D%2C%20%5B34.359889%2C%20134.139528%5D%2C%20%5B34.324306%2C%20134.17963899999998%5D%2C%20%5B34.266706%2C%20134.171719%5D%2C%20%5B34.191417%2C%20134.20675%5D%5D%2C%0A%20%20%20%20%20%20%20%20%20%20%20%20%20%20%20%20%7B%22bubblingMouseEvents%22%3A%20true%2C%20%22color%22%3A%20%22blue%22%2C%20%22dashArray%22%3A%20null%2C%20%22dashOffset%22%3A%20null%2C%20%22fill%22%3A%20false%2C%20%22fillColor%22%3A%20%22blue%22%2C%20%22fillOpacity%22%3A%200.2%2C%20%22fillRule%22%3A%20%22evenodd%22%2C%20%22lineCap%22%3A%20%22round%22%2C%20%22lineJoin%22%3A%20%22round%22%2C%20%22noClip%22%3A%20false%2C%20%22opacity%22%3A%201.0%2C%20%22smoothFactor%22%3A%201.0%2C%20%22stroke%22%3A%20true%2C%20%22weight%22%3A%203%7D%0A%20%20%20%20%20%20%20%20%20%20%20%20%29.addTo%28map_a72d8e7442ae4c5980ad88fb75baae1c%29%3B%0A%20%20%20%20%20%20%20%20%0A%20%20%20%20%0A%20%20%20%20%20%20%20%20%20%20%20%20var%20marker_65f41172fafe4cd4aa2d0f1f2153d53d%20%3D%20L.marker%28%0A%20%20%20%20%20%20%20%20%20%20%20%20%20%20%20%20%5B33.491721999999996%2C%20133.487583%5D%2C%0A%20%20%20%20%20%20%20%20%20%20%20%20%20%20%20%20%7B%7D%0A%20%20%20%20%20%20%20%20%20%20%20%20%29.addTo%28map_a72d8e7442ae4c5980ad88fb75baae1c%29%3B%0A%20%20%20%20%20%20%20%20%0A%20%20%20%20%0A%20%20%20%20%20%20%20%20%20%20%20%20var%20icon_5cca3e7762864d95900394cb755c4b85%20%3D%20L.AwesomeMarkers.icon%28%0A%20%20%20%20%20%20%20%20%20%20%20%20%20%20%20%20%7B%22extraClasses%22%3A%20%22fa-rotate-0%22%2C%20%22icon%22%3A%20%22info-sign%22%2C%20%22iconColor%22%3A%20%22white%22%2C%20%22markerColor%22%3A%20%22red%22%2C%20%22prefix%22%3A%20%22glyphicon%22%7D%0A%20%20%20%20%20%20%20%20%20%20%20%20%29%3B%0A%20%20%20%20%20%20%20%20%20%20%20%20marker_65f41172fafe4cd4aa2d0f1f2153d53d.setIcon%28icon_5cca3e7762864d95900394cb755c4b85%29%3B%0A%20%20%20%20%20%20%20%20%0A%20%20%20%20%0A%20%20%20%20%20%20%20%20var%20popup_0ce7850f79dc4b13b10129e179a37c53%20%3D%20L.popup%28%7B%22maxWidth%22%3A%20%22100%25%22%7D%29%3B%0A%0A%20%20%20%20%20%20%20%20%0A%20%20%20%20%20%20%20%20%20%20%20%20var%20html_cad15fc4110c43488360b77ea6d583ed%20%3D%20%24%28%60%3Cdiv%20id%3D%22html_cad15fc4110c43488360b77ea6d583ed%22%20style%3D%22width%3A%20100.0%25%3B%20height%3A%20100.0%25%3B%22%3E%E7%AC%AC%E4%B8%89%E5%8D%81%E5%9B%9B%E7%95%AA%20%E6%9C%AC%E5%B0%BE%E5%B1%B1%20%E6%9C%B1%E9%9B%80%E9%99%A2%20%E7%A8%AE%E9%96%93%E5%AF%BA%E3%80%80%E3%80%80%E3%80%80%E3%80%80%E3%80%80%E3%80%80%E3%80%80%E3%80%80%E3%80%80%E3%80%80%E3%80%80%E3%80%80%E3%80%80%E3%80%80%E3%80%80%3C/div%3E%60%29%5B0%5D%3B%0A%20%20%20%20%20%20%20%20%20%20%20%20popup_0ce7850f79dc4b13b10129e179a37c53.setContent%28html_cad15fc4110c43488360b77ea6d583ed%29%3B%0A%20%20%20%20%20%20%20%20%0A%0A%20%20%20%20%20%20%20%20marker_65f41172fafe4cd4aa2d0f1f2153d53d.bindPopup%28popup_0ce7850f79dc4b13b10129e179a37c53%29%0A%20%20%20%20%20%20%20%20%3B%0A%0A%20%20%20%20%20%20%20%20%0A%20%20%20%20%0A%3C/script%3E onload=\"this.contentDocument.open();this.contentDocument.write(    decodeURIComponent(this.getAttribute('data-html')));this.contentDocument.close();\" allowfullscreen webkitallowfullscreen mozallowfullscreen></iframe></div></div>"
      ],
      "text/plain": [
       "<folium.folium.Map at 0x1110fa06be0>"
      ]
     },
     "execution_count": 6,
     "metadata": {},
     "output_type": "execute_result"
    }
   ],
   "source": [
    "for i in range(10):\n",
    "    dice = random.randint(1,6)\n",
    "    step += dice\n",
    "    if step >= 88:\n",
    "        step = 88\n",
    "        now = ohenro.query(f'index == {step-1}')\n",
    "        hudasho = now['札所'].iloc[-1]\n",
    "        print(f'サイコロ:{dice} 88マス目 {hudasho} ゴール！')\n",
    "        step = 0\n",
    "    else :\n",
    "        now = ohenro.query(f'index == {step-1}')\n",
    "        hudasho = now['札所'].iloc[-1]\n",
    "        print(f'サイコロ:{dice} {step}マス目 {hudasho}')\n",
    "\n",
    "# 地図生成\n",
    "folium_map = folium.Map(location=[now['緯度'], now['経度']])\n",
    "\n",
    "#緯度経度を配列に格納\n",
    "locs = ohenro[[\"緯度\",\"経度\"]].values\n",
    "folium.PolyLine(locs,color='blue').add_to(folium_map)\n",
    "\n",
    "# マーカープロット\n",
    "folium.Marker(\n",
    "    location=[now['緯度'], now['経度']],\n",
    "        popup=hudasho + '　'*(len(hudasho)-2),\n",
    "        icon=folium.Icon(color='red')\n",
    "        ).add_to(folium_map)\n",
    "        \n",
    "# 地図表示\n",
    "folium_map"
   ]
  },
  {
   "cell_type": "code",
   "execution_count": 88,
   "metadata": {},
   "outputs": [
    {
     "data": {
      "text/plain": [
       "'七宝山 観音寺'"
      ]
     },
     "execution_count": 88,
     "metadata": {},
     "output_type": "execute_result"
    }
   ],
   "source": []
  },
  {
   "cell_type": "code",
   "execution_count": null,
   "metadata": {},
   "outputs": [],
   "source": []
  }
 ],
 "metadata": {
  "kernelspec": {
   "display_name": "Python 3",
   "language": "python",
   "name": "python3"
  },
  "language_info": {
   "codemirror_mode": {
    "name": "ipython",
    "version": 3
   },
   "file_extension": ".py",
   "mimetype": "text/x-python",
   "name": "python",
   "nbconvert_exporter": "python",
   "pygments_lexer": "ipython3",
   "version": "3.8.5"
  }
 },
 "nbformat": 4,
 "nbformat_minor": 4
}
